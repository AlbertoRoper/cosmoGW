{
 "cells": [
  {
   "cell_type": "code",
   "execution_count": null,
   "id": "c9955d80-1c2f-42d0-81d1-ccd14aba5659",
   "metadata": {},
   "outputs": [],
   "source": []
  },
  {
   "cell_type": "markdown",
   "id": "f437d372-41f2-4120-a07d-6dbb8ff269c9",
   "metadata": {},
   "source": [
    "# Efficiency from SSM\n",
    "\n",
    "## Tutorial that shows how to use GW_models.py and hydro_bubbles.py to compute the efficiency of GW production according to the sound-shell model.\n",
    "\n",
    "### It follows the assumptions presented in HH19: *Hindmarsh & Hijazi*, JCAP 12 (2019) 062, arXiv:1909.10040, see Appendix B of RPPC23: Roper Pol et al., Phys. Rev. D 109 (2024) 6, 063531, arXiv:2308.12943 for details\n",
    "\n",
    "### Created by Alberto Roper Pol (alberto.roperpol@unige.ch), 29/08/2024"
   ]
  },
  {
   "cell_type": "code",
   "execution_count": null,
   "id": "88e5d7a4-363a-4d00-a581-1688a6d4ffe8",
   "metadata": {},
   "outputs": [],
   "source": []
  },
  {
   "cell_type": "code",
   "execution_count": 1,
   "id": "0009a79b-9e7c-48b8-8943-1438bae2c759",
   "metadata": {},
   "outputs": [],
   "source": [
    "import numpy as np\n",
    "import matplotlib.pyplot as plt\n",
    "import os\n",
    "HOME = os.getcwd()\n",
    "\n",
    "os.chdir('../..')\n",
    "import plot_sets\n",
    "import hydro_bubbles as hb\n",
    "import GW_models\n",
    "os.chdir(HOME)\n",
    "\n",
    "# reference values\n",
    "cs2 = 1/3\n",
    "cs = np.sqrt(cs2)\n",
    "\n",
    "# reference colors\n",
    "cols = hb.cols_ref"
   ]
  },
  {
   "cell_type": "code",
   "execution_count": 2,
   "id": "e2dfb370-933a-4c01-9ea9-d1c1e7ea7891",
   "metadata": {},
   "outputs": [
    {
     "name": "stdout",
     "output_type": "stream",
     "text": [
      "3 iterations for vw= 0.32  and alpha=  0.0046\n",
      "alpha: 0.0046000049694327055 , alpha_+: 0.004552950606229703\n",
      "results of 1d profile saved in  results/1d_profiles/alpha_00046_vw_032.csv\n",
      "3 iterations for vw= 0.36  and alpha=  0.0046\n",
      "alpha: 0.004600012549210328 , alpha_+: 0.004536001538899887\n",
      "results of 1d profile saved in  results/1d_profiles/alpha_00046_vw_036.csv\n",
      "3 iterations for vw= 0.4  and alpha=  0.0046\n",
      "alpha: 0.004600032407470411 , alpha_+: 0.004512256077478789\n",
      "results of 1d profile saved in  results/1d_profiles/alpha_00046_vw_04.csv\n",
      "4 iterations for vw= 0.44  and alpha=  0.0046\n",
      "alpha: 0.004599997645495893 , alpha_+: 0.004476619531355962\n",
      "results of 1d profile saved in  results/1d_profiles/alpha_00046_vw_044.csv\n",
      "4 iterations for vw= 0.48  and alpha=  0.0046\n",
      "alpha: 0.004599989328945599 , alpha_+: 0.004417867883061105\n",
      "results of 1d profile saved in  results/1d_profiles/alpha_00046_vw_048.csv\n",
      "5 iterations for vw= 0.52  and alpha=  0.0046\n",
      "alpha: 0.004600003447411667 , alpha_+: 0.004306550107266795\n",
      "results of 1d profile saved in  results/1d_profiles/alpha_00046_vw_052.csv\n",
      "5 iterations for vw= 0.56  and alpha=  0.0046\n",
      "alpha: 0.0046000273739060715 , alpha_+: 0.004059984643810762\n",
      "results of 1d profile saved in  results/1d_profiles/alpha_00046_vw_056.csv\n",
      "6 iterations for vw= 0.6000000000000001  and alpha=  0.0046\n",
      "alpha: 0.00459999582519595 , alpha_+: 0.0035961523077975978\n",
      "results of 1d profile saved in  results/1d_profiles/alpha_00046_vw_06.csv\n",
      "results of 1d profile saved in  results/1d_profiles/alpha_00046_vw_064.csv\n",
      "results of 1d profile saved in  results/1d_profiles/alpha_00046_vw_068.csv\n",
      "results of 1d profile saved in  results/1d_profiles/alpha_00046_vw_072.csv\n",
      "results of 1d profile saved in  results/1d_profiles/alpha_00046_vw_076.csv\n",
      "results of 1d profile saved in  results/1d_profiles/alpha_00046_vw_08.csv\n"
     ]
    }
   ],
   "source": [
    "### compute the 1d profiles of the fluid perturbations\n",
    "\n",
    "## we first compute the 1d profiles (velocity and energy fluctuations lambda)\n",
    "## for a chosen alpha and range of vws\n",
    "\n",
    "alpha = 0.0046\n",
    "vws = np.linspace(0.32, .8, 13)\n",
    "# define string of vws for saving file\n",
    "str_vws = ['032', '036', '04', '044', '048', '052', '056', '06', '064', '068', '072', '076', '08']\n",
    "str_alp = '00046'\n",
    "Nxi = 10000\n",
    "\n",
    "xis, vvs, lams, alphapl, conv, shocks, xifs, wms, kappas, omegas = \\\n",
    "       hb.compute_profiles_vws(alpha, vws=vws, cs2=cs2, plot=False, plot_v='both', cols=[], meth=2,\n",
    "                               alphan=True, lam=True, eff=True, quiet=True, tol=1e-5, max_it=30, Nxi=Nxi, Nxi2=2*Nxi,\n",
    "                               save=True, strs_vws=str_vws, str_alp=str_alp)\n",
    "\n",
    "types = hb.type_nucleation(vws, alpha, cs2=cs2)"
   ]
  },
  {
   "cell_type": "code",
   "execution_count": 3,
   "id": "fc68922d-fa0e-47d5-81b4-fe01dd0f7c94",
   "metadata": {},
   "outputs": [
    {
     "name": "stdout",
     "output_type": "stream",
     "text": [
      "vw  1 / 13  computed\n",
      "vw  2 / 13  computed\n",
      "vw  3 / 13  computed\n",
      "vw  4 / 13  computed\n",
      "vw  5 / 13  computed\n",
      "vw  6 / 13  computed\n",
      "vw  7 / 13  computed\n",
      "vw  8 / 13  computed\n",
      "vw  9 / 13  computed\n",
      "vw  10 / 13  computed\n",
      "vw  11 / 13  computed\n",
      "vw  12 / 13  computed\n",
      "vw  13 / 13  computed\n"
     ]
    }
   ],
   "source": [
    "# we now compute the f'2 function from the 1d profiles that will be used to compute\n",
    "# the kinetic spectrum\n",
    "\n",
    "Nz = 5000\n",
    "z_min = -2\n",
    "z_max = 5\n",
    "z = np.logspace(z_min, z_max, Nz)\n",
    "fpzs, lzs = hb.fp_z(xis, vvs, z, ls=lams, multi=True, quiet=False, lz=True)"
   ]
  },
  {
   "cell_type": "code",
   "execution_count": 4,
   "id": "743a0a2d-1f2a-4fab-a92d-731d30b5717f",
   "metadata": {},
   "outputs": [],
   "source": [
    "# compute power spectral density as a function of q/beta using the sound-shell model\n",
    "# and exponential nucleation\n",
    "\n",
    "Nqbeta = 1000\n",
    "\n",
    "q_beta, Pv_exp = GW_models.compute_kin_spec_dens(z, vws, fpzs, lzs, sp='sum', type_n='exp', cs2=cs2,\n",
    "                                  min_qbeta=-2, max_qbeta=3, Nqbeta=Nqbeta,\n",
    "                                  min_TT=-1, max_TT=3, NTT=5000)"
   ]
  },
  {
   "cell_type": "code",
   "execution_count": 5,
   "id": "27a10d8b-95e1-4833-a1a7-bd6e8900e27d",
   "metadata": {},
   "outputs": [],
   "source": [
    "## compute the spectrum EK and kR in terms of the power spectral density Pv and q/beta\n",
    "\n",
    "kks, EK_exp = GW_models.compute_kin_spec(vws, q_beta, Pv_exp, corr=True, cs2=cs2)"
   ]
  },
  {
   "cell_type": "code",
   "execution_count": 7,
   "id": "14fb29d3-8f24-4793-bbb9-ca42d3a80afc",
   "metadata": {},
   "outputs": [],
   "source": [
    "#### computation of the GW efficiency under the assumptions taken in HH19,\n",
    "#### corrected in RPPC23, and described in App. B of RPPC23\n",
    "\n",
    "Nk = 120\n",
    "Np = 3000\n",
    "\n",
    "# OmGW^HH(k) = (3pi)/8cs x (k/kst)^2 x (K/KK)^2 x TGW x Omm(k)\n",
    "\n",
    "zetaGW_HH = np.zeros((len(vws), Nk))\n",
    "OmGW_HH = np.zeros((len(vws), Nk))\n",
    "Omtilde_HH = np.zeros(len(vws))\n",
    "kps = np.zeros((len(vws), Nk))\n",
    "    \n",
    "for i in range(0, len(vws)):\n",
    "\n",
    "    zeta_EK = EK_exp[i, :]/max(EK_exp[i, :])\n",
    "    KK = np.trapz(zeta_EK, kks[i, :])\n",
    "    kps[i, :], OmGW_HH[i, :] = GW_models.OmGW_ssm_HH19(kks[i, :], zeta_EK, Np=Np, Nk=Nk, plot=False, cs2=cs2)\n",
    "    \n",
    "    zetaGW_HH[i, :] = np.pi/8*kps[i, :]**2/cs*OmGW_HH[i, :]/KK**2\n",
    "    Omtilde_HH[i] = np.trapz(zetaGW_HH[i, :], np.log(kps[i, :]))"
   ]
  },
  {
   "cell_type": "code",
   "execution_count": 12,
   "id": "38350770-64e9-4f46-93e6-e7fb37ff8ec9",
   "metadata": {},
   "outputs": [
    {
     "data": {
      "text/plain": [
       "Text(0.5, 1.0, '$\\\\alpha = 0.0046$')"
      ]
     },
     "execution_count": 12,
     "metadata": {},
     "output_type": "execute_result"
    },
    {
     "data": {
      "image/png": "[encoded data removed]",
      "text/plain": [
       "<Figure size 640x480 with 1 Axes>"
      ]
     },
     "metadata": {},
     "output_type": "display_data"
    }
   ],
   "source": [
    "### We can now plot the efficiency Omega_tilde vs vw\n",
    "\n",
    "plt.plot(vws, Omtilde_HH)\n",
    "plt.yscale('log')\n",
    "plot_sets.axes_lines()\n",
    "\n",
    "plt.ylim(5e-4, 3e-2)\n",
    "plt.xlabel(r'$v_{\\rm w}$')\n",
    "plt.ylabel(r'$\\tilde \\Omega_{\\rm GW}$')\n",
    "plt.title(r'$\\alpha = 0.0046$')"
   ]
  },
  {
   "cell_type": "code",
   "execution_count": null,
   "id": "9f5d3899-1340-425d-b8c5-851e1be4ebfa",
   "metadata": {},
   "outputs": [],
   "source": []
  }
 ],
 "metadata": {
  "kernelspec": {
   "display_name": "Python 3 (ipykernel)",
   "language": "python",
   "name": "python3"
  },
  "language_info": {
   "codemirror_mode": {
    "name": "ipython",
    "version": 3
   },
   "file_extension": ".py",
   "mimetype": "text/x-python",
   "name": "python",
   "nbconvert_exporter": "python",
   "pygments_lexer": "ipython3",
   "version": "3.9.13"
  }
 },
 "nbformat": 4,
 "nbformat_minor": 5
}
